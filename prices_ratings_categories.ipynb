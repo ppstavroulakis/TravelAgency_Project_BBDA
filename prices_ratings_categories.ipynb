{
 "cells": [
  {
   "cell_type": "code",
   "execution_count": 70,
   "id": "881ee391",
   "metadata": {},
   "outputs": [],
   "source": [
    "import pandas as pd"
   ]
  },
  {
   "cell_type": "code",
   "execution_count": 71,
   "id": "a6fefb3c",
   "metadata": {},
   "outputs": [
    {
     "data": {
      "text/html": [
       "<div>\n",
       "<style scoped>\n",
       "    .dataframe tbody tr th:only-of-type {\n",
       "        vertical-align: middle;\n",
       "    }\n",
       "\n",
       "    .dataframe tbody tr th {\n",
       "        vertical-align: top;\n",
       "    }\n",
       "\n",
       "    .dataframe thead th {\n",
       "        text-align: right;\n",
       "    }\n",
       "</style>\n",
       "<table border=\"1\" class=\"dataframe\">\n",
       "  <thead>\n",
       "    <tr style=\"text-align: right;\">\n",
       "      <th></th>\n",
       "      <th>Name</th>\n",
       "      <th>Place</th>\n",
       "      <th>Type</th>\n",
       "      <th>Price</th>\n",
       "      <th>ReviewsCount</th>\n",
       "      <th>Rating</th>\n",
       "      <th>Type_Room</th>\n",
       "    </tr>\n",
       "  </thead>\n",
       "  <tbody>\n",
       "    <tr>\n",
       "      <th>0</th>\n",
       "      <td>'t Goude Hooft</td>\n",
       "      <td>The Hague City Centre, The Hague</td>\n",
       "      <td>Deluxe Suite</td>\n",
       "      <td>195.36</td>\n",
       "      <td>375</td>\n",
       "      <td>9.0</td>\n",
       "      <td>Premium Suite</td>\n",
       "    </tr>\n",
       "    <tr>\n",
       "      <th>1</th>\n",
       "      <td>3BE Backpackers Bed &amp; Breakfast Eindhoven</td>\n",
       "      <td>Eindhoven City Centre, Eindhoven</td>\n",
       "      <td>Single Bed in 14-Bed Dormitory Room</td>\n",
       "      <td>60.35</td>\n",
       "      <td>805</td>\n",
       "      <td>8.0</td>\n",
       "      <td>Dorm</td>\n",
       "    </tr>\n",
       "    <tr>\n",
       "      <th>2</th>\n",
       "      <td>Amadeus Hotel</td>\n",
       "      <td>Haarlem</td>\n",
       "      <td>Budget Double Room</td>\n",
       "      <td>65.15</td>\n",
       "      <td>1281</td>\n",
       "      <td>7.7</td>\n",
       "      <td>Standard Double</td>\n",
       "    </tr>\n",
       "    <tr>\n",
       "      <th>3</th>\n",
       "      <td>Ambassador City Centre Hotel</td>\n",
       "      <td>Haarlem</td>\n",
       "      <td>Comfort Room</td>\n",
       "      <td>90.05</td>\n",
       "      <td>807</td>\n",
       "      <td>7.7</td>\n",
       "      <td>Other</td>\n",
       "    </tr>\n",
       "    <tr>\n",
       "      <th>4</th>\n",
       "      <td>Amrâth Grand Hotel Frans Hals</td>\n",
       "      <td>Haarlem</td>\n",
       "      <td>Deluxe Twin Room</td>\n",
       "      <td>118.82</td>\n",
       "      <td>1730</td>\n",
       "      <td>8.0</td>\n",
       "      <td>Premium Twin</td>\n",
       "    </tr>\n",
       "    <tr>\n",
       "      <th>...</th>\n",
       "      <td>...</td>\n",
       "      <td>...</td>\n",
       "      <td>...</td>\n",
       "      <td>...</td>\n",
       "      <td>...</td>\n",
       "      <td>...</td>\n",
       "      <td>...</td>\n",
       "    </tr>\n",
       "    <tr>\n",
       "      <th>469</th>\n",
       "      <td>limehome Den Haag Keizerstraat</td>\n",
       "      <td>Scheveningen</td>\n",
       "      <td>Suite</td>\n",
       "      <td>125.73</td>\n",
       "      <td>500</td>\n",
       "      <td>8.4</td>\n",
       "      <td>Suite</td>\n",
       "    </tr>\n",
       "    <tr>\n",
       "      <th>470</th>\n",
       "      <td>nhow Amsterdam Rai</td>\n",
       "      <td>Zuideramstel, Amsterdam</td>\n",
       "      <td>nhow Double or Twin Room with View</td>\n",
       "      <td>128.54</td>\n",
       "      <td>500</td>\n",
       "      <td>9.0</td>\n",
       "      <td>Twin</td>\n",
       "    </tr>\n",
       "    <tr>\n",
       "      <th>471</th>\n",
       "      <td>ss Rotterdam Hotel en Restaurants</td>\n",
       "      <td>Feijenoord, Rotterdam</td>\n",
       "      <td>Twin Standard</td>\n",
       "      <td>65.39</td>\n",
       "      <td>500</td>\n",
       "      <td>8.3</td>\n",
       "      <td>Standard Twin</td>\n",
       "    </tr>\n",
       "    <tr>\n",
       "      <th>472</th>\n",
       "      <td>the niu Dairy</td>\n",
       "      <td>Haarlem</td>\n",
       "      <td>Standard Double or Twin Room</td>\n",
       "      <td>84.54</td>\n",
       "      <td>500</td>\n",
       "      <td>8.5</td>\n",
       "      <td>Standard Twin</td>\n",
       "    </tr>\n",
       "    <tr>\n",
       "      <th>473</th>\n",
       "      <td>voco The Hague, an IHG Hotel</td>\n",
       "      <td>The Hague City Centre, The Hague</td>\n",
       "      <td>Queen Room with Atrium View</td>\n",
       "      <td>117.28</td>\n",
       "      <td>500</td>\n",
       "      <td>8.7</td>\n",
       "      <td>Double</td>\n",
       "    </tr>\n",
       "  </tbody>\n",
       "</table>\n",
       "<p>474 rows × 7 columns</p>\n",
       "</div>"
      ],
      "text/plain": [
       "                                          Name  \\\n",
       "0                               't Goude Hooft   \n",
       "1    3BE Backpackers Bed & Breakfast Eindhoven   \n",
       "2                                Amadeus Hotel   \n",
       "3                 Ambassador City Centre Hotel   \n",
       "4                Amrâth Grand Hotel Frans Hals   \n",
       "..                                         ...   \n",
       "469             limehome Den Haag Keizerstraat   \n",
       "470                         nhow Amsterdam Rai   \n",
       "471          ss Rotterdam Hotel en Restaurants   \n",
       "472                              the niu Dairy   \n",
       "473               voco The Hague, an IHG Hotel   \n",
       "\n",
       "                                Place                                 Type  \\\n",
       "0    The Hague City Centre, The Hague                         Deluxe Suite   \n",
       "1    Eindhoven City Centre, Eindhoven  Single Bed in 14-Bed Dormitory Room   \n",
       "2                             Haarlem                   Budget Double Room   \n",
       "3                             Haarlem                         Comfort Room   \n",
       "4                             Haarlem                     Deluxe Twin Room   \n",
       "..                                ...                                  ...   \n",
       "469                      Scheveningen                                Suite   \n",
       "470           Zuideramstel, Amsterdam   nhow Double or Twin Room with View   \n",
       "471             Feijenoord, Rotterdam                        Twin Standard   \n",
       "472                           Haarlem         Standard Double or Twin Room   \n",
       "473  The Hague City Centre, The Hague          Queen Room with Atrium View   \n",
       "\n",
       "      Price  ReviewsCount  Rating        Type_Room  \n",
       "0    195.36           375     9.0    Premium Suite  \n",
       "1     60.35           805     8.0             Dorm  \n",
       "2     65.15          1281     7.7  Standard Double  \n",
       "3     90.05           807     7.7            Other  \n",
       "4    118.82          1730     8.0     Premium Twin  \n",
       "..      ...           ...     ...              ...  \n",
       "469  125.73           500     8.4            Suite  \n",
       "470  128.54           500     9.0             Twin  \n",
       "471   65.39           500     8.3    Standard Twin  \n",
       "472   84.54           500     8.5    Standard Twin  \n",
       "473  117.28           500     8.7           Double  \n",
       "\n",
       "[474 rows x 7 columns]"
      ]
     },
     "execution_count": 71,
     "metadata": {},
     "output_type": "execute_result"
    }
   ],
   "source": [
    "df = pd.read_excel('BookingProjectClean.xlsx')\n",
    "df"
   ]
  },
  {
   "cell_type": "code",
   "execution_count": 72,
   "id": "3425c3dd",
   "metadata": {},
   "outputs": [
    {
     "data": {
      "text/html": [
       "<div>\n",
       "<style scoped>\n",
       "    .dataframe tbody tr th:only-of-type {\n",
       "        vertical-align: middle;\n",
       "    }\n",
       "\n",
       "    .dataframe tbody tr th {\n",
       "        vertical-align: top;\n",
       "    }\n",
       "\n",
       "    .dataframe thead th {\n",
       "        text-align: right;\n",
       "    }\n",
       "</style>\n",
       "<table border=\"1\" class=\"dataframe\">\n",
       "  <thead>\n",
       "    <tr style=\"text-align: right;\">\n",
       "      <th></th>\n",
       "      <th>Price</th>\n",
       "      <th>ReviewsCount</th>\n",
       "      <th>Rating</th>\n",
       "    </tr>\n",
       "  </thead>\n",
       "  <tbody>\n",
       "    <tr>\n",
       "      <th>count</th>\n",
       "      <td>474.00000</td>\n",
       "      <td>474.000000</td>\n",
       "      <td>474.000000</td>\n",
       "    </tr>\n",
       "    <tr>\n",
       "      <th>mean</th>\n",
       "      <td>124.76557</td>\n",
       "      <td>795.369198</td>\n",
       "      <td>8.328903</td>\n",
       "    </tr>\n",
       "    <tr>\n",
       "      <th>std</th>\n",
       "      <td>62.32018</td>\n",
       "      <td>888.291733</td>\n",
       "      <td>0.665733</td>\n",
       "    </tr>\n",
       "    <tr>\n",
       "      <th>min</th>\n",
       "      <td>39.88000</td>\n",
       "      <td>13.000000</td>\n",
       "      <td>5.500000</td>\n",
       "    </tr>\n",
       "    <tr>\n",
       "      <th>25%</th>\n",
       "      <td>85.76750</td>\n",
       "      <td>362.750000</td>\n",
       "      <td>8.000000</td>\n",
       "    </tr>\n",
       "    <tr>\n",
       "      <th>50%</th>\n",
       "      <td>110.05500</td>\n",
       "      <td>500.000000</td>\n",
       "      <td>8.400000</td>\n",
       "    </tr>\n",
       "    <tr>\n",
       "      <th>75%</th>\n",
       "      <td>138.91750</td>\n",
       "      <td>932.000000</td>\n",
       "      <td>8.800000</td>\n",
       "    </tr>\n",
       "    <tr>\n",
       "      <th>max</th>\n",
       "      <td>534.39000</td>\n",
       "      <td>7748.000000</td>\n",
       "      <td>9.800000</td>\n",
       "    </tr>\n",
       "  </tbody>\n",
       "</table>\n",
       "</div>"
      ],
      "text/plain": [
       "           Price  ReviewsCount      Rating\n",
       "count  474.00000    474.000000  474.000000\n",
       "mean   124.76557    795.369198    8.328903\n",
       "std     62.32018    888.291733    0.665733\n",
       "min     39.88000     13.000000    5.500000\n",
       "25%     85.76750    362.750000    8.000000\n",
       "50%    110.05500    500.000000    8.400000\n",
       "75%    138.91750    932.000000    8.800000\n",
       "max    534.39000   7748.000000    9.800000"
      ]
     },
     "execution_count": 72,
     "metadata": {},
     "output_type": "execute_result"
    }
   ],
   "source": [
    "df.describe()"
   ]
  },
  {
   "cell_type": "code",
   "execution_count": 73,
   "id": "c2fec58a",
   "metadata": {},
   "outputs": [],
   "source": [
    "# df['Rating_Category'] = pd.qcut(df['Rating'], q=5, labels=['Very Low', 'Low', 'Medium', 'High', 'Very High']) \n",
    "# df['Price_Category'] = pd.qcut(df['Price'], q=3, labels=['Cheap', 'Moderate', 'Expensive'])"
   ]
  },
  {
   "cell_type": "code",
   "execution_count": 74,
   "id": "daf12c21",
   "metadata": {},
   "outputs": [],
   "source": [
    "rating_bins = [0.0, 7.0, 8.0, 10.0]\n",
    "rating_labels = ['Low Rating', 'Medium Rating', 'High Rating']\n",
    "\n",
    "df['Rating_Category'] = pd.cut(df['Rating'], bins=rating_bins, labels=rating_labels)"
   ]
  },
  {
   "cell_type": "code",
   "execution_count": 75,
   "id": "4d51f478",
   "metadata": {},
   "outputs": [
    {
     "data": {
      "text/plain": [
       "High Rating      334\n",
       "Medium Rating    118\n",
       "Low Rating        22\n",
       "Name: Rating_Category, dtype: int64"
      ]
     },
     "execution_count": 75,
     "metadata": {},
     "output_type": "execute_result"
    }
   ],
   "source": [
    "df['Rating_Category'].value_counts()"
   ]
  },
  {
   "cell_type": "code",
   "execution_count": 76,
   "id": "726687b4",
   "metadata": {},
   "outputs": [],
   "source": [
    "df['Price_Category'] = pd.qcut(df['Price'], q=3, labels=['Cheap', 'Moderate', 'Expensive'])"
   ]
  },
  {
   "cell_type": "code",
   "execution_count": 77,
   "id": "e7330f5d",
   "metadata": {},
   "outputs": [
    {
     "data": {
      "text/plain": [
       "Cheap        159\n",
       "Expensive    158\n",
       "Moderate     157\n",
       "Name: Price_Category, dtype: int64"
      ]
     },
     "execution_count": 77,
     "metadata": {},
     "output_type": "execute_result"
    }
   ],
   "source": [
    "df['Price_Category'].value_counts()"
   ]
  },
  {
   "cell_type": "code",
   "execution_count": 78,
   "id": "c0f6ea03",
   "metadata": {},
   "outputs": [],
   "source": [
    "df['Price_Rating_Category'] = df['Rating_Category'].astype(str) + '-' + df['Price_Category'].astype(str)"
   ]
  },
  {
   "cell_type": "code",
   "execution_count": 79,
   "id": "f94be7fd",
   "metadata": {},
   "outputs": [
    {
     "data": {
      "text/plain": [
       "High Rating-Expensive      118\n",
       "High Rating-Moderate       117\n",
       "High Rating-Cheap           99\n",
       "Medium Rating-Cheap         47\n",
       "Medium Rating-Expensive     37\n",
       "Medium Rating-Moderate      34\n",
       "Low Rating-Cheap            13\n",
       "Low Rating-Moderate          6\n",
       "Low Rating-Expensive         3\n",
       "Name: Price_Rating_Category, dtype: int64"
      ]
     },
     "execution_count": 79,
     "metadata": {},
     "output_type": "execute_result"
    }
   ],
   "source": [
    "df['Price_Rating_Category'].value_counts()"
   ]
  },
  {
   "cell_type": "code",
   "execution_count": 88,
   "id": "61dc28e3",
   "metadata": {},
   "outputs": [
    {
     "data": {
      "text/plain": [
       "Price_Rating_Category\n",
       "High Rating-Cheap           81.440\n",
       "High Rating-Expensive      159.200\n",
       "High Rating-Moderate       110.220\n",
       "Low Rating-Cheap            68.580\n",
       "Low Rating-Expensive       150.220\n",
       "Low Rating-Moderate        107.285\n",
       "Medium Rating-Cheap         77.220\n",
       "Medium Rating-Expensive    159.890\n",
       "Medium Rating-Moderate     109.605\n",
       "Name: Price, dtype: float64"
      ]
     },
     "execution_count": 88,
     "metadata": {},
     "output_type": "execute_result"
    }
   ],
   "source": [
    "df.groupby('Price_Rating_Category')['Price'].median()"
   ]
  },
  {
   "cell_type": "code",
   "execution_count": 83,
   "id": "66c9eb4a",
   "metadata": {},
   "outputs": [
    {
     "data": {
      "text/plain": [
       "Price_Rating_Category\n",
       "High Rating-Cheap          8.40\n",
       "High Rating-Expensive      8.80\n",
       "High Rating-Moderate       8.70\n",
       "Low Rating-Cheap           6.60\n",
       "Low Rating-Expensive       6.70\n",
       "Low Rating-Moderate        6.85\n",
       "Medium Rating-Cheap        7.70\n",
       "Medium Rating-Expensive    7.80\n",
       "Medium Rating-Moderate     7.75\n",
       "Name: Rating, dtype: float64"
      ]
     },
     "execution_count": 83,
     "metadata": {},
     "output_type": "execute_result"
    }
   ],
   "source": [
    "df.groupby('Price_Rating_Category')['Rating'].median()"
   ]
  },
  {
   "cell_type": "code",
   "execution_count": 23,
   "id": "cca54aa2",
   "metadata": {},
   "outputs": [
    {
     "data": {
      "text/plain": [
       "(474, 9)"
      ]
     },
     "execution_count": 23,
     "metadata": {},
     "output_type": "execute_result"
    }
   ],
   "source": [
    "df = df[df['ReviewsCount'] > 10]\n",
    "df.shape"
   ]
  },
  {
   "cell_type": "code",
   "execution_count": null,
   "id": "aeb607dd",
   "metadata": {},
   "outputs": [],
   "source": []
  },
  {
   "cell_type": "code",
   "execution_count": null,
   "id": "334809b5",
   "metadata": {},
   "outputs": [],
   "source": []
  },
  {
   "cell_type": "code",
   "execution_count": null,
   "id": "c9b9bfb3",
   "metadata": {},
   "outputs": [],
   "source": []
  },
  {
   "cell_type": "code",
   "execution_count": null,
   "id": "d7e9cd83",
   "metadata": {},
   "outputs": [],
   "source": []
  },
  {
   "cell_type": "code",
   "execution_count": null,
   "id": "d33ca422",
   "metadata": {},
   "outputs": [],
   "source": []
  },
  {
   "cell_type": "code",
   "execution_count": null,
   "id": "c1c9dbaf",
   "metadata": {},
   "outputs": [],
   "source": []
  },
  {
   "cell_type": "code",
   "execution_count": null,
   "id": "a66ca0c0",
   "metadata": {},
   "outputs": [],
   "source": []
  },
  {
   "cell_type": "code",
   "execution_count": null,
   "id": "4a8e0083",
   "metadata": {},
   "outputs": [],
   "source": []
  },
  {
   "cell_type": "code",
   "execution_count": null,
   "id": "f79cbd7e",
   "metadata": {},
   "outputs": [],
   "source": []
  },
  {
   "cell_type": "code",
   "execution_count": null,
   "id": "347c0dff",
   "metadata": {},
   "outputs": [],
   "source": []
  },
  {
   "cell_type": "code",
   "execution_count": null,
   "id": "39a08834",
   "metadata": {},
   "outputs": [],
   "source": []
  },
  {
   "cell_type": "code",
   "execution_count": null,
   "id": "4c40ea07",
   "metadata": {},
   "outputs": [],
   "source": []
  }
 ],
 "metadata": {
  "kernelspec": {
   "display_name": "Python 3 (ipykernel)",
   "language": "python",
   "name": "python3"
  },
  "language_info": {
   "codemirror_mode": {
    "name": "ipython",
    "version": 3
   },
   "file_extension": ".py",
   "mimetype": "text/x-python",
   "name": "python",
   "nbconvert_exporter": "python",
   "pygments_lexer": "ipython3",
   "version": "3.9.17"
  }
 },
 "nbformat": 4,
 "nbformat_minor": 5
}
